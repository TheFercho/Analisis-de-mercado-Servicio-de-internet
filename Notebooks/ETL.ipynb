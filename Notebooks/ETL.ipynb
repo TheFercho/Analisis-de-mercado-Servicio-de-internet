{
 "cells": [
  {
   "attachments": {},
   "cell_type": "markdown",
   "metadata": {},
   "source": [
    "DESCARGA DESDE LA API, DATASTREAMS, FILTRANDO SOLO LO DE ACCESO A INTERNET"
   ]
  },
  {
   "cell_type": "code",
   "execution_count": 107,
   "metadata": {},
   "outputs": [],
   "source": [
    "import pandas as pd\n",
    "import requests\n",
    "from datetime import datetime"
   ]
  },
  {
   "cell_type": "code",
   "execution_count": null,
   "metadata": {},
   "outputs": [],
   "source": [
    "\n",
    "\n",
    "base_url = 'https://api.datosabiertos.enacom.gob.ar/api/v2/datastreams/'\n",
    "params = {'auth_key': 'L0p0zwDA1rhdIVq8cTGXys907h0Ic9mhFyRP9UEM'}\n",
    "\n",
    "response = requests.get(base_url, params=params)\n",
    "\n",
    "if response.status_code == 200:\n",
    "    data = response.json()\n",
    "    # Trabaja con los datos JSON aquí\n",
    "    print(data)\n",
    "else:\n",
    "    print('Error al realizar la solicitud:', response.status_code)\n"
   ]
  },
  {
   "cell_type": "code",
   "execution_count": 7,
   "metadata": {},
   "outputs": [],
   "source": [
    "# Filtrar los elementos por su campo category_name\n",
    "internet_data = [item for item in data if item['category_name'] == 'Acceso a Internet']\n"
   ]
  },
  {
   "cell_type": "code",
   "execution_count": 8,
   "metadata": {},
   "outputs": [
    {
     "name": "stdout",
     "output_type": "stream",
     "text": [
      "https://api.datosabiertos.enacom.gob.ar/api/v2/datastreams/CONEC-AL-SERVI-DE-INTER/data.csv/?auth_key=L0p0zwDA1rhdIVq8cTGXys907h0Ic9mhFyRP9UEM\n",
      "Archivo CSV guardado exitosamente\n",
      "https://api.datosabiertos.enacom.gob.ar/api/v2/datastreams/LISTA-DE-LOCAL-CON-CONEC/data.csv/?auth_key=L0p0zwDA1rhdIVq8cTGXys907h0Ic9mhFyRP9UEM\n",
      "Archivo CSV guardado exitosamente\n",
      "https://api.datosabiertos.enacom.gob.ar/api/v2/datastreams/PENET-DEL-INTER-FIJO-POR/data.csv/?auth_key=L0p0zwDA1rhdIVq8cTGXys907h0Ic9mhFyRP9UEM\n",
      "Archivo CSV guardado exitosamente\n",
      "https://api.datosabiertos.enacom.gob.ar/api/v2/datastreams/PENET-DEL-INTER-FIJO-51614/data.csv/?auth_key=L0p0zwDA1rhdIVq8cTGXys907h0Ic9mhFyRP9UEM\n",
      "Archivo CSV guardado exitosamente\n",
      "https://api.datosabiertos.enacom.gob.ar/api/v2/datastreams/PENET-NACIO-DEL-INTER-FIJO/data.csv/?auth_key=L0p0zwDA1rhdIVq8cTGXys907h0Ic9mhFyRP9UEM\n",
      "Archivo CSV guardado exitosamente\n",
      "https://api.datosabiertos.enacom.gob.ar/api/v2/datastreams/ACCES-A-INTER-FIJO-62463/data.csv/?auth_key=L0p0zwDA1rhdIVq8cTGXys907h0Ic9mhFyRP9UEM\n",
      "Archivo CSV guardado exitosamente\n",
      "https://api.datosabiertos.enacom.gob.ar/api/v2/datastreams/ACCES-A-INTER-FIJO-16249/data.csv/?auth_key=L0p0zwDA1rhdIVq8cTGXys907h0Ic9mhFyRP9UEM\n",
      "Archivo CSV guardado exitosamente\n",
      "https://api.datosabiertos.enacom.gob.ar/api/v2/datastreams/VELOC-PROME-DE-BAJAD-51733/data.csv/?auth_key=L0p0zwDA1rhdIVq8cTGXys907h0Ic9mhFyRP9UEM\n",
      "Archivo CSV guardado exitosamente\n",
      "https://api.datosabiertos.enacom.gob.ar/api/v2/datastreams/TOTAL-NACIO-DE-ACCES-48866/data.csv/?auth_key=L0p0zwDA1rhdIVq8cTGXys907h0Ic9mhFyRP9UEM\n",
      "Archivo CSV guardado exitosamente\n",
      "https://api.datosabiertos.enacom.gob.ar/api/v2/datastreams/BANDA-ANCHA-Y-BANDA-ANGOS/data.csv/?auth_key=L0p0zwDA1rhdIVq8cTGXys907h0Ic9mhFyRP9UEM\n",
      "Archivo CSV guardado exitosamente\n",
      "https://api.datosabiertos.enacom.gob.ar/api/v2/datastreams/ACCES-A-INTER-FIJO-POR/data.csv/?auth_key=L0p0zwDA1rhdIVq8cTGXys907h0Ic9mhFyRP9UEM\n",
      "Archivo CSV guardado exitosamente\n",
      "https://api.datosabiertos.enacom.gob.ar/api/v2/datastreams/TOTAL-NACIO-DE-ACCES-A/data.csv/?auth_key=L0p0zwDA1rhdIVq8cTGXys907h0Ic9mhFyRP9UEM\n",
      "Archivo CSV guardado exitosamente\n",
      "https://api.datosabiertos.enacom.gob.ar/api/v2/datastreams/ACCES-A-INTER-FIJO-23248/data.csv/?auth_key=L0p0zwDA1rhdIVq8cTGXys907h0Ic9mhFyRP9UEM\n",
      "Archivo CSV guardado exitosamente\n",
      "https://api.datosabiertos.enacom.gob.ar/api/v2/datastreams/TOTAL-NACIO-DE-ACCES-32663/data.csv/?auth_key=L0p0zwDA1rhdIVq8cTGXys907h0Ic9mhFyRP9UEM\n",
      "Archivo CSV guardado exitosamente\n",
      "https://api.datosabiertos.enacom.gob.ar/api/v2/datastreams/ACCES-A-INTER-FIJO-97624/data.csv/?auth_key=L0p0zwDA1rhdIVq8cTGXys907h0Ic9mhFyRP9UEM\n",
      "Archivo CSV guardado exitosamente\n",
      "https://api.datosabiertos.enacom.gob.ar/api/v2/datastreams/INGRE-POR-LA-OPERA-DEL/data.csv/?auth_key=L0p0zwDA1rhdIVq8cTGXys907h0Ic9mhFyRP9UEM\n",
      "Archivo CSV guardado exitosamente\n",
      "https://api.datosabiertos.enacom.gob.ar/api/v2/datastreams/INDIC-MACRO/data.csv/?auth_key=L0p0zwDA1rhdIVq8cTGXys907h0Ic9mhFyRP9UEM\n",
      "Archivo CSV guardado exitosamente\n"
     ]
    }
   ],
   "source": [
    "for i, item in enumerate(internet_data):\n",
    "    guid = item['guid']\n",
    "    url = f\"{base_url}{guid}/data.csv/?auth_key={params['auth_key']}\"\n",
    "    item_response = requests.get(url)\n",
    "    nombre_1 = item['title']\n",
    "    \n",
    "    print(url)\n",
    "    if item_response.status_code == 200:\n",
    "        # Guardar el contenido de la respuesta en un archivo CSV\n",
    "        file =f'{nombre_1}_datastreams_{str(i)}.csv'\n",
    "        dataframe = pd.read_csv(url)\n",
    "        dataframe.to_csv(file, index=False)\n",
    "            \n",
    "        print('Archivo CSV guardado exitosamente')\n",
    "    else:\n",
    "        print('Error al hacer la solicitud al elemento:', item_response.status_code)\n"
   ]
  },
  {
   "cell_type": "code",
   "execution_count": 14,
   "metadata": {},
   "outputs": [
    {
     "data": {
      "text/html": [
       "<div>\n",
       "<style scoped>\n",
       "    .dataframe tbody tr th:only-of-type {\n",
       "        vertical-align: middle;\n",
       "    }\n",
       "\n",
       "    .dataframe tbody tr th {\n",
       "        vertical-align: top;\n",
       "    }\n",
       "\n",
       "    .dataframe thead th {\n",
       "        text-align: right;\n",
       "    }\n",
       "</style>\n",
       "<table border=\"1\" class=\"dataframe\">\n",
       "  <thead>\n",
       "    <tr style=\"text-align: right;\">\n",
       "      <th></th>\n",
       "      <th>Año</th>\n",
       "      <th>Trimestre</th>\n",
       "      <th>IPC US</th>\n",
       "      <th>IPC AR</th>\n",
       "      <th>USDARS oficial</th>\n",
       "      <th>USDARS blue</th>\n",
       "      <th>PBI millones</th>\n",
       "    </tr>\n",
       "  </thead>\n",
       "  <tbody>\n",
       "    <tr>\n",
       "      <th>0</th>\n",
       "      <td>2013</td>\n",
       "      <td>1</td>\n",
       "      <td>232773</td>\n",
       "      <td>298</td>\n",
       "      <td>5,00</td>\n",
       "      <td>9,00</td>\n",
       "      <td>2.888.981</td>\n",
       "    </tr>\n",
       "    <tr>\n",
       "      <th>1</th>\n",
       "      <td>2013</td>\n",
       "      <td>2</td>\n",
       "      <td>233504</td>\n",
       "      <td>309</td>\n",
       "      <td>5,00</td>\n",
       "      <td>9,00</td>\n",
       "      <td>3.387.811</td>\n",
       "    </tr>\n",
       "    <tr>\n",
       "      <th>2</th>\n",
       "      <td>2013</td>\n",
       "      <td>3</td>\n",
       "      <td>234149</td>\n",
       "      <td>331</td>\n",
       "      <td>6,00</td>\n",
       "      <td>10,00</td>\n",
       "      <td>3.436.547</td>\n",
       "    </tr>\n",
       "    <tr>\n",
       "      <th>3</th>\n",
       "      <td>2013</td>\n",
       "      <td>4</td>\n",
       "      <td>233049</td>\n",
       "      <td>351</td>\n",
       "      <td>6,00</td>\n",
       "      <td>11,00</td>\n",
       "      <td>3.679.896</td>\n",
       "    </tr>\n",
       "    <tr>\n",
       "      <th>4</th>\n",
       "      <td>2014</td>\n",
       "      <td>1</td>\n",
       "      <td>236293</td>\n",
       "      <td>402</td>\n",
       "      <td>8,00</td>\n",
       "      <td>11,00</td>\n",
       "      <td>3.917.649</td>\n",
       "    </tr>\n",
       "  </tbody>\n",
       "</table>\n",
       "</div>"
      ],
      "text/plain": [
       "    Año  Trimestre  IPC US  IPC AR USDARS oficial USDARS blue PBI millones\n",
       "0  2013          1  232773     298           5,00        9,00    2.888.981\n",
       "1  2013          2  233504     309           5,00        9,00    3.387.811\n",
       "2  2013          3  234149     331           6,00       10,00    3.436.547\n",
       "3  2013          4  233049     351           6,00       11,00    3.679.896\n",
       "4  2014          1  236293     402           8,00       11,00    3.917.649"
      ]
     },
     "execution_count": 14,
     "metadata": {},
     "output_type": "execute_result"
    }
   ],
   "source": [
    "df = pd.read_csv(\"datos_16_internet.csv\")\n",
    "df.head()"
   ]
  },
  {
   "attachments": {},
   "cell_type": "markdown",
   "metadata": {},
   "source": [
    "AHORA ESTA LA DESCARGA DE DATASETS"
   ]
  },
  {
   "cell_type": "code",
   "execution_count": null,
   "metadata": {},
   "outputs": [],
   "source": [
    "import requests\n",
    "\n",
    "base_url = 'https://api.datosabiertos.enacom.gob.ar/api/v2/datasets/'\n",
    "params = {'auth_key': 'L0p0zwDA1rhdIVq8cTGXys907h0Ic9mhFyRP9UEM'}\n",
    "\n",
    "response = requests.get(base_url, params=params)\n",
    "\n",
    "if response.status_code == 200:\n",
    "    data = response.json()\n",
    "    # Trabaja con los datos JSON aquí\n",
    "    print(data)\n",
    "else:\n",
    "    print('Error al realizar la solicitud:', response.status_code)"
   ]
  },
  {
   "cell_type": "code",
   "execution_count": null,
   "metadata": {},
   "outputs": [],
   "source": [
    "internet_data = [item for item in data if item['category_name'] == 'Acceso a Internet']\n",
    "for item in internet_data:\n",
    "    print(item)"
   ]
  },
  {
   "cell_type": "code",
   "execution_count": null,
   "metadata": {},
   "outputs": [],
   "source": [
    "for i, item in enumerate(internet_data):\n",
    "    guid = item['guid']\n",
    "    url = f\"{base_url}{guid}/?auth_key={params['auth_key']}\"\n",
    "    nombre = item['title']\n",
    "    print(url)\n",
    "    item_response = requests.get(url)\n",
    "    item_json = item_response.json()\n",
    "    download_url = item_json['download_url']\n",
    "    print(download_url)\n",
    "    item_response = requests.get(download_url)\n",
    "    \n",
    "    if item_response.status_code == 200:\n",
    "        # Guardar el contenido de la respuesta en un archivo XML\n",
    "        file =f'{nombre}_dataset_{str(i)}.csv'\n",
    "        dataframe = pd.read_excel(item_response.content)\n",
    "\n",
    "        # Guardar el DataFrame en un archivo CSV\n",
    "        dataframe.to_csv(file, index=False)\n",
    "            \n",
    "        print('Archivo XML guardado exitosamente')\n",
    "    else:\n",
    "        print(download_url)\n",
    "        print('Error al hacer la solicitud al elemento:', item_response.status_code)"
   ]
  },
  {
   "attachments": {},
   "cell_type": "markdown",
   "metadata": {},
   "source": [
    "El archivo 10, esta corrupto, idem en datastreams"
   ]
  },
  {
   "cell_type": "code",
   "execution_count": 115,
   "metadata": {},
   "outputs": [
    {
     "name": "stdout",
     "output_type": "stream",
     "text": [
      "https://api.datosabiertos.enacom.gob.ar/api/v2/datasets/MAPA-DE-CONEC/?auth_key=30h4w4I05HIGeD0WgCDgyBCQWpLkzmZLHubG6p24\n",
      "https://indicadores.enacom.gob.ar/mapasconectividadabierto.aspx\n"
     ]
    }
   ],
   "source": [
    "for i, item in enumerate(internet_data):\n",
    "    if i == 10:\n",
    "        guid = item['guid']\n",
    "        url = f\"{base_url}{guid}/?auth_key={params['auth_key']}\"\n",
    "        print(url)\n",
    "        item_response = requests.get(url)\n",
    "        item_json = item_response.json()\n",
    "        download_url = item_json['download_url']\n",
    "        print(download_url)"
   ]
  },
  {
   "attachments": {},
   "cell_type": "markdown",
   "metadata": {},
   "source": [
    "cargar Servicios Postales"
   ]
  },
  {
   "cell_type": "code",
   "execution_count": null,
   "metadata": {},
   "outputs": [],
   "source": [
    "import pandas as pd\n",
    "import requests\n",
    "\n",
    "base_url = 'https://api.datosabiertos.enacom.gob.ar/api/v2/datastreams/'\n",
    "params = {'auth_key': 'L0p0zwDA1rhdIVq8cTGXys907h0Ic9mhFyRP9UEM'}\n",
    "\n",
    "response = requests.get(base_url, params=params)\n",
    "\n",
    "if response.status_code == 200:\n",
    "    data = response.json()\n",
    "    # Trabaja con los datos JSON aquí\n",
    "    print(data)\n",
    "else:\n",
    "    print('Error al realizar la solicitud:', response.status_code)"
   ]
  },
  {
   "cell_type": "code",
   "execution_count": null,
   "metadata": {},
   "outputs": [],
   "source": [
    "internet_data = [item for item in data if item['category_name'] == 'Servicios Postales']\n",
    "for item in internet_data:\n",
    "    print(item)"
   ]
  },
  {
   "cell_type": "code",
   "execution_count": null,
   "metadata": {},
   "outputs": [],
   "source": [
    "for i, item in enumerate(internet_data):\n",
    "    guid = item['guid']\n",
    "    url = f\"{base_url}{guid}/?auth_key={params['auth_key']}\"\n",
    "    nombre = item['title']\n",
    "    print(url)\n",
    "    item_response = requests.get(url)\n",
    "    item_json = item_response.json()\n",
    "    download_url = item_json['download_url']\n",
    "    print(download_url)\n",
    "    item_response = requests.get(download_url)\n",
    "    \n",
    "    if item_response.status_code == 200:\n",
    "        # Guardar el contenido de la respuesta en un archivo XML\n",
    "        file =f'{nombre}_dataset_{str(i)}.csv'\n",
    "        dataframe = pd.read_excel(item_response.content)\n",
    "\n",
    "        # Guardar el DataFrame en un archivo CSV\n",
    "        dataframe.to_csv(file, index=False)\n",
    "            \n",
    "        print('Archivo XML guardado exitosamente')\n",
    "    else:\n",
    "        print(download_url)\n",
    "        print('Error al hacer la solicitud al elemento:', item_response.status_code)"
   ]
  },
  {
   "attachments": {},
   "cell_type": "markdown",
   "metadata": {},
   "source": [
    "#### Internet fijo por tecnologia y Provincia"
   ]
  },
  {
   "cell_type": "code",
   "execution_count": 14,
   "metadata": {},
   "outputs": [],
   "source": [
    "df_PorTecno_y_Provincia=pd.read_csv('../data/Acceso a Internet fijo por tecnología y provincia_datastreams_10.csv')"
   ]
  },
  {
   "cell_type": "code",
   "execution_count": null,
   "metadata": {},
   "outputs": [],
   "source": [
    "df_PorTecno_y_Provincia.info()"
   ]
  },
  {
   "cell_type": "code",
   "execution_count": 48,
   "metadata": {},
   "outputs": [],
   "source": [
    "df_PorTecno_y_Provincia['Trimestre']=df_PorTecno_y_Provincia['Trimestre'].str.replace('*','')"
   ]
  },
  {
   "cell_type": "code",
   "execution_count": 49,
   "metadata": {},
   "outputs": [],
   "source": [
    "df_PorTecno_y_Provincia['Trimestre']=df_PorTecno_y_Provincia['Trimestre'].astype(int)"
   ]
  },
  {
   "cell_type": "code",
   "execution_count": 28,
   "metadata": {},
   "outputs": [],
   "source": [
    "df_PorTecno_y_Provincia.dropna(inplace=True)"
   ]
  },
  {
   "cell_type": "code",
   "execution_count": 51,
   "metadata": {},
   "outputs": [],
   "source": [
    "df_PorTecno_y_Provincia.to_csv('Acceso_a_Internet_fijo_por_tecnología_y_provincia.csv',index=False)"
   ]
  },
  {
   "attachments": {},
   "cell_type": "markdown",
   "metadata": {},
   "source": [
    "#### Accesos a bandas por provincia"
   ]
  },
  {
   "cell_type": "code",
   "execution_count": 52,
   "metadata": {},
   "outputs": [],
   "source": [
    "df_Accesos_a_bandas_por_provincia=pd.read_csv('../data/Accesos a banda ancha y banda angosta por provincia_datastreams_9.csv')"
   ]
  },
  {
   "cell_type": "code",
   "execution_count": 73,
   "metadata": {},
   "outputs": [
    {
     "name": "stdout",
     "output_type": "stream",
     "text": [
      "<class 'pandas.core.frame.DataFrame'>\n",
      "Index: 838 entries, 0 to 839\n",
      "Data columns (total 6 columns):\n",
      " #   Column            Non-Null Count  Dtype \n",
      "---  ------            --------------  ----- \n",
      " 0   Año               838 non-null    int64 \n",
      " 1   Trimestre         838 non-null    int64 \n",
      " 2   Provincia         838 non-null    object\n",
      " 3   Banda ancha fija  838 non-null    int32 \n",
      " 4   Dial up           838 non-null    int32 \n",
      " 5   Total             838 non-null    Int64 \n",
      "dtypes: Int64(1), int32(2), int64(2), object(1)\n",
      "memory usage: 40.1+ KB\n"
     ]
    }
   ],
   "source": [
    "df_Accesos_a_bandas_por_provincia.info()"
   ]
  },
  {
   "cell_type": "code",
   "execution_count": 63,
   "metadata": {},
   "outputs": [],
   "source": [
    "df_Accesos_a_bandas_por_provincia.dropna(inplace=True)"
   ]
  },
  {
   "cell_type": "code",
   "execution_count": 68,
   "metadata": {},
   "outputs": [],
   "source": [
    "df_Accesos_a_bandas_por_provincia['Total']=df_Accesos_a_bandas_por_provincia['Total'].str.replace('.','')"
   ]
  },
  {
   "cell_type": "code",
   "execution_count": 71,
   "metadata": {},
   "outputs": [],
   "source": [
    "df_Accesos_a_bandas_por_provincia['Total']=df_Accesos_a_bandas_por_provincia['Total'].astype('Int64')"
   ]
  },
  {
   "cell_type": "code",
   "execution_count": 74,
   "metadata": {},
   "outputs": [],
   "source": [
    "df_Accesos_a_bandas_por_provincia.to_csv('bandas_por_Provincias.csv',index=False)"
   ]
  },
  {
   "attachments": {},
   "cell_type": "markdown",
   "metadata": {},
   "source": [
    "#### Portabilidad numerica por operador"
   ]
  },
  {
   "cell_type": "code",
   "execution_count": 84,
   "metadata": {},
   "outputs": [],
   "source": [
    "df_portabilidad=pd.read_csv('../data/Portabilidad_numerica_movil_por_operador.csv')\n"
   ]
  },
  {
   "cell_type": "code",
   "execution_count": 106,
   "metadata": {},
   "outputs": [
    {
     "name": "stdout",
     "output_type": "stream",
     "text": [
      "<class 'pandas.core.frame.DataFrame'>\n",
      "RangeIndex: 128 entries, 0 to 127\n",
      "Data columns (total 6 columns):\n",
      " #   Column    Non-Null Count  Dtype \n",
      "---  ------    --------------  ----- \n",
      " 0   Año       128 non-null    object\n",
      " 1   Mes       128 non-null    int64 \n",
      " 2   Personal  128 non-null    int32 \n",
      " 3   Claro     128 non-null    int32 \n",
      " 4   Movistar  128 non-null    int32 \n",
      " 5   Periodo   128 non-null    object\n",
      "dtypes: int32(3), int64(1), object(2)\n",
      "memory usage: 4.6+ KB\n"
     ]
    }
   ],
   "source": [
    "df_portabilidad.info()"
   ]
  },
  {
   "cell_type": "code",
   "execution_count": 86,
   "metadata": {},
   "outputs": [],
   "source": [
    "df_portabilidad.drop(columns=['Nextel','Otros'],inplace=True)"
   ]
  },
  {
   "cell_type": "code",
   "execution_count": 88,
   "metadata": {},
   "outputs": [],
   "source": [
    "df_portabilidad['Año']=df_portabilidad['Año'].astype(str)"
   ]
  },
  {
   "cell_type": "code",
   "execution_count": 102,
   "metadata": {},
   "outputs": [],
   "source": [
    "df_portabilidad['Personal']=df_portabilidad['Personal'].str.replace('\"','')\n",
    "df_portabilidad['Personal']=df_portabilidad['Personal'].str.replace(',','')\n",
    "df_portabilidad['Personal']=df_portabilidad['Personal'].astype(int)"
   ]
  },
  {
   "cell_type": "code",
   "execution_count": 103,
   "metadata": {},
   "outputs": [],
   "source": [
    "df_portabilidad['Claro']=df_portabilidad['Claro'].str.replace('\"','')\n",
    "df_portabilidad['Claro']=df_portabilidad['Claro'].str.replace(',','')\n",
    "df_portabilidad['Claro']=df_portabilidad['Claro'].astype(int)"
   ]
  },
  {
   "cell_type": "code",
   "execution_count": 104,
   "metadata": {},
   "outputs": [],
   "source": [
    "df_portabilidad['Movistar']=df_portabilidad['Movistar'].str.replace('\"','')\n",
    "df_portabilidad['Movistar']=df_portabilidad['Movistar'].str.replace(',','')\n",
    "df_portabilidad['Movistar']=df_portabilidad['Movistar'].astype(int)"
   ]
  },
  {
   "cell_type": "code",
   "execution_count": 111,
   "metadata": {},
   "outputs": [],
   "source": [
    "#df_portabilidad['Periodo'] = pd.to_datetime(df_portabilidad['Periodo'], format='%b-%y')\n",
    "df_portabilidad.drop(columns='Periodo',inplace=True)"
   ]
  },
  {
   "cell_type": "code",
   "execution_count": 175,
   "metadata": {},
   "outputs": [
    {
     "data": {
      "text/html": [
       "<div>\n",
       "<style scoped>\n",
       "    .dataframe tbody tr th:only-of-type {\n",
       "        vertical-align: middle;\n",
       "    }\n",
       "\n",
       "    .dataframe tbody tr th {\n",
       "        vertical-align: top;\n",
       "    }\n",
       "\n",
       "    .dataframe thead th {\n",
       "        text-align: right;\n",
       "    }\n",
       "</style>\n",
       "<table border=\"1\" class=\"dataframe\">\n",
       "  <thead>\n",
       "    <tr style=\"text-align: right;\">\n",
       "      <th></th>\n",
       "      <th>Año</th>\n",
       "      <th>Mes</th>\n",
       "      <th>Personal</th>\n",
       "      <th>Claro</th>\n",
       "      <th>Movistar</th>\n",
       "    </tr>\n",
       "  </thead>\n",
       "  <tbody>\n",
       "    <tr>\n",
       "      <th>0</th>\n",
       "      <td>2012</td>\n",
       "      <td>3</td>\n",
       "      <td>-17</td>\n",
       "      <td>19</td>\n",
       "      <td>-2</td>\n",
       "    </tr>\n",
       "    <tr>\n",
       "      <th>1</th>\n",
       "      <td>2012</td>\n",
       "      <td>4</td>\n",
       "      <td>3508</td>\n",
       "      <td>-1134</td>\n",
       "      <td>-2185</td>\n",
       "    </tr>\n",
       "    <tr>\n",
       "      <th>2</th>\n",
       "      <td>2012</td>\n",
       "      <td>5</td>\n",
       "      <td>1253</td>\n",
       "      <td>4792</td>\n",
       "      <td>-5192</td>\n",
       "    </tr>\n",
       "    <tr>\n",
       "      <th>3</th>\n",
       "      <td>2012</td>\n",
       "      <td>6</td>\n",
       "      <td>3263</td>\n",
       "      <td>-1248</td>\n",
       "      <td>-1167</td>\n",
       "    </tr>\n",
       "    <tr>\n",
       "      <th>4</th>\n",
       "      <td>2012</td>\n",
       "      <td>7</td>\n",
       "      <td>5554</td>\n",
       "      <td>-3847</td>\n",
       "      <td>-602</td>\n",
       "    </tr>\n",
       "  </tbody>\n",
       "</table>\n",
       "</div>"
      ],
      "text/plain": [
       "    Año  Mes  Personal  Claro  Movistar\n",
       "0  2012    3       -17     19        -2\n",
       "1  2012    4      3508  -1134     -2185\n",
       "2  2012    5      1253   4792     -5192\n",
       "3  2012    6      3263  -1248     -1167\n",
       "4  2012    7      5554  -3847      -602"
      ]
     },
     "execution_count": 175,
     "metadata": {},
     "output_type": "execute_result"
    }
   ],
   "source": [
    "df_portabilidad.head(5)"
   ]
  },
  {
   "cell_type": "code",
   "execution_count": 114,
   "metadata": {},
   "outputs": [],
   "source": [
    "df_portabilidad.to_csv('portabilidad_mensual.csv',index=False)"
   ]
  },
  {
   "attachments": {},
   "cell_type": "markdown",
   "metadata": {},
   "source": [
    "#### Portabilidad um movil altas por operador"
   ]
  },
  {
   "cell_type": "code",
   "execution_count": 158,
   "metadata": {},
   "outputs": [],
   "source": [
    "df_movil_altas=pd.read_csv('../data/Portabilidad_um_movil_altas_por_operador.csv')"
   ]
  },
  {
   "cell_type": "code",
   "execution_count": 163,
   "metadata": {},
   "outputs": [
    {
     "name": "stdout",
     "output_type": "stream",
     "text": [
      "<class 'pandas.core.frame.DataFrame'>\n",
      "RangeIndex: 128 entries, 0 to 127\n",
      "Data columns (total 5 columns):\n",
      " #   Column    Non-Null Count  Dtype \n",
      "---  ------    --------------  ----- \n",
      " 0   Año       128 non-null    int64 \n",
      " 1   Mes       128 non-null    int64 \n",
      " 2   Personal  128 non-null    object\n",
      " 3   Claro     128 non-null    object\n",
      " 4   Movistar  128 non-null    object\n",
      "dtypes: int64(2), object(3)\n",
      "memory usage: 5.1+ KB\n"
     ]
    }
   ],
   "source": [
    "df_movil_altas.info()"
   ]
  },
  {
   "cell_type": "code",
   "execution_count": 123,
   "metadata": {},
   "outputs": [],
   "source": [
    "#df_movil_altas['Año'] = pd.to_datetime(df_movil_altas['Año'], format='%b-%y')\n",
    "#df_movil_altas['Año']=pd.to_datetime(df_movil_altas['Año']).dt.year"
   ]
  },
  {
   "cell_type": "code",
   "execution_count": 162,
   "metadata": {},
   "outputs": [],
   "source": [
    "df_movil_altas.drop(columns='Nextel',inplace=True)"
   ]
  },
  {
   "cell_type": "code",
   "execution_count": 164,
   "metadata": {},
   "outputs": [],
   "source": [
    "df_movil_altas['Movistar']=df_movil_altas['Movistar'].str.replace('\"','')\n",
    "df_movil_altas['Movistar']=df_movil_altas['Movistar'].str.replace(',','')\n",
    "df_movil_altas['Movistar']=df_movil_altas['Movistar'].astype(int)"
   ]
  },
  {
   "cell_type": "code",
   "execution_count": 165,
   "metadata": {},
   "outputs": [],
   "source": [
    "df_movil_altas['Personal']=df_movil_altas['Personal'].str.replace('\"','')\n",
    "df_movil_altas['Personal']=df_movil_altas['Personal'].str.replace(',','')\n",
    "df_movil_altas['Personal']=df_movil_altas['Personal'].astype(int)"
   ]
  },
  {
   "cell_type": "code",
   "execution_count": 166,
   "metadata": {},
   "outputs": [],
   "source": [
    "df_movil_altas['Claro']=df_movil_altas['Claro'].str.replace('\"','')\n",
    "df_movil_altas['Claro']=df_movil_altas['Claro'].str.replace(',','')\n",
    "df_movil_altas['Claro']=df_movil_altas['Claro'].astype(int)"
   ]
  },
  {
   "cell_type": "code",
   "execution_count": 171,
   "metadata": {},
   "outputs": [
    {
     "data": {
      "text/html": [
       "<div>\n",
       "<style scoped>\n",
       "    .dataframe tbody tr th:only-of-type {\n",
       "        vertical-align: middle;\n",
       "    }\n",
       "\n",
       "    .dataframe tbody tr th {\n",
       "        vertical-align: top;\n",
       "    }\n",
       "\n",
       "    .dataframe thead th {\n",
       "        text-align: right;\n",
       "    }\n",
       "</style>\n",
       "<table border=\"1\" class=\"dataframe\">\n",
       "  <thead>\n",
       "    <tr style=\"text-align: right;\">\n",
       "      <th></th>\n",
       "      <th>Año</th>\n",
       "      <th>Mes</th>\n",
       "      <th>Personal</th>\n",
       "      <th>Claro</th>\n",
       "      <th>Movistar</th>\n",
       "      <th>Total</th>\n",
       "    </tr>\n",
       "  </thead>\n",
       "  <tbody>\n",
       "    <tr>\n",
       "      <th>0</th>\n",
       "      <td>2022</td>\n",
       "      <td>10</td>\n",
       "      <td>60855</td>\n",
       "      <td>117430</td>\n",
       "      <td>119716</td>\n",
       "      <td>298001</td>\n",
       "    </tr>\n",
       "    <tr>\n",
       "      <th>1</th>\n",
       "      <td>2022</td>\n",
       "      <td>9</td>\n",
       "      <td>63315</td>\n",
       "      <td>131071</td>\n",
       "      <td>115906</td>\n",
       "      <td>310292</td>\n",
       "    </tr>\n",
       "  </tbody>\n",
       "</table>\n",
       "</div>"
      ],
      "text/plain": [
       "    Año  Mes  Personal   Claro  Movistar   Total\n",
       "0  2022   10     60855  117430    119716  298001\n",
       "1  2022    9     63315  131071    115906  310292"
      ]
     },
     "execution_count": 171,
     "metadata": {},
     "output_type": "execute_result"
    }
   ],
   "source": [
    "df_movil_altas.head(2)"
   ]
  },
  {
   "cell_type": "code",
   "execution_count": 170,
   "metadata": {},
   "outputs": [],
   "source": [
    "df_movil_altas['Total']= df_movil_altas['Personal']+df_movil_altas['Claro']+df_movil_altas['Movistar']"
   ]
  },
  {
   "cell_type": "code",
   "execution_count": 172,
   "metadata": {},
   "outputs": [],
   "source": [
    "df_movil_altas.to_csv('movil_altas_por_operador.csv',index=False)"
   ]
  },
  {
   "attachments": {},
   "cell_type": "markdown",
   "metadata": {},
   "source": [
    "#### Total accesos por tecnologia"
   ]
  },
  {
   "cell_type": "code",
   "execution_count": 155,
   "metadata": {},
   "outputs": [],
   "source": [
    "df_total_accesos_por_tecnologia = pd.read_csv('../data/Total nacional de accesos a Internet fijo por tipo de tecnología_datastreams_11.csv')"
   ]
  },
  {
   "cell_type": "code",
   "execution_count": 176,
   "metadata": {},
   "outputs": [
    {
     "name": "stdout",
     "output_type": "stream",
     "text": [
      "<class 'pandas.core.frame.DataFrame'>\n",
      "RangeIndex: 35 entries, 0 to 34\n",
      "Data columns (total 9 columns):\n",
      " #   Column        Non-Null Count  Dtype  \n",
      "---  ------        --------------  -----  \n",
      " 0   Año           35 non-null     int64  \n",
      " 1   Trimestre     35 non-null     int64  \n",
      " 2   ADSL          35 non-null     object \n",
      " 3   Cablemodem    35 non-null     object \n",
      " 4   Fibra óptica  35 non-null     object \n",
      " 5   Wireless      35 non-null     float64\n",
      " 6   Otros         35 non-null     float64\n",
      " 7   Total         35 non-null     object \n",
      " 8   Periodo       35 non-null     object \n",
      "dtypes: float64(2), int64(2), object(5)\n",
      "memory usage: 2.6+ KB\n"
     ]
    }
   ],
   "source": [
    "df_total_accesos_por_tecnologia.info()"
   ]
  },
  {
   "cell_type": "code",
   "execution_count": 138,
   "metadata": {},
   "outputs": [],
   "source": [
    "df_total_accesos_por_tecnologia['Año']=pd.to_datetime(df_total_accesos_por_tecnologia['Año']).dt.year"
   ]
  },
  {
   "cell_type": "code",
   "execution_count": 143,
   "metadata": {},
   "outputs": [],
   "source": [
    "df_total_accesos_por_tecnologia.drop(columns='Total',inplace=True)"
   ]
  },
  {
   "cell_type": "code",
   "execution_count": 147,
   "metadata": {},
   "outputs": [],
   "source": [
    "df_total_accesos_por_tecnologia['ADSL']=df_total_accesos_por_tecnologia['ADSL'].replace('.','')\n",
    "df_total_accesos_por_tecnologia['Cablemodem']=df_total_accesos_por_tecnologia['Cablemodem'].replace('.','')\n",
    "df_total_accesos_por_tecnologia['Fibra óptica']=df_total_accesos_por_tecnologia['Fibra óptica'].replace('.','')\n",
    "df_total_accesos_por_tecnologia['Wireless']=df_total_accesos_por_tecnologia['Wireless'].replace('.','')"
   ]
  },
  {
   "cell_type": "code",
   "execution_count": 152,
   "metadata": {},
   "outputs": [],
   "source": [
    "df_total_accesos_por_tecnologia[['Fibra óptica','Wireless']]=df_total_accesos_por_tecnologia[['Fibra óptica','Wireless']].astype(int)"
   ]
  },
  {
   "cell_type": "code",
   "execution_count": 177,
   "metadata": {},
   "outputs": [
    {
     "data": {
      "text/html": [
       "<div>\n",
       "<style scoped>\n",
       "    .dataframe tbody tr th:only-of-type {\n",
       "        vertical-align: middle;\n",
       "    }\n",
       "\n",
       "    .dataframe tbody tr th {\n",
       "        vertical-align: top;\n",
       "    }\n",
       "\n",
       "    .dataframe thead th {\n",
       "        text-align: right;\n",
       "    }\n",
       "</style>\n",
       "<table border=\"1\" class=\"dataframe\">\n",
       "  <thead>\n",
       "    <tr style=\"text-align: right;\">\n",
       "      <th></th>\n",
       "      <th>Año</th>\n",
       "      <th>Trimestre</th>\n",
       "      <th>ADSL</th>\n",
       "      <th>Cablemodem</th>\n",
       "      <th>Fibra óptica</th>\n",
       "      <th>Wireless</th>\n",
       "      <th>Otros</th>\n",
       "      <th>Total</th>\n",
       "      <th>Periodo</th>\n",
       "    </tr>\n",
       "  </thead>\n",
       "  <tbody>\n",
       "    <tr>\n",
       "      <th>0</th>\n",
       "      <td>2022</td>\n",
       "      <td>3</td>\n",
       "      <td>1.395.277</td>\n",
       "      <td>6.031.970</td>\n",
       "      <td>2.871.541</td>\n",
       "      <td>557.110</td>\n",
       "      <td>235.230</td>\n",
       "      <td>11.091.128</td>\n",
       "      <td>Jul-Sept 2022</td>\n",
       "    </tr>\n",
       "    <tr>\n",
       "      <th>1</th>\n",
       "      <td>2022</td>\n",
       "      <td>2</td>\n",
       "      <td>1.468.333</td>\n",
       "      <td>5.979.214</td>\n",
       "      <td>2.723.285</td>\n",
       "      <td>556.243</td>\n",
       "      <td>231.609</td>\n",
       "      <td>10.958.684</td>\n",
       "      <td>Abr-Jun 2022</td>\n",
       "    </tr>\n",
       "  </tbody>\n",
       "</table>\n",
       "</div>"
      ],
      "text/plain": [
       "    Año  Trimestre       ADSL Cablemodem Fibra óptica  Wireless    Otros   \n",
       "0  2022          3  1.395.277  6.031.970    2.871.541   557.110  235.230  \\\n",
       "1  2022          2  1.468.333  5.979.214    2.723.285   556.243  231.609   \n",
       "\n",
       "        Total        Periodo  \n",
       "0  11.091.128  Jul-Sept 2022  \n",
       "1  10.958.684   Abr-Jun 2022  "
      ]
     },
     "execution_count": 177,
     "metadata": {},
     "output_type": "execute_result"
    }
   ],
   "source": [
    "df_total_accesos_por_tecnologia.head(2)"
   ]
  },
  {
   "attachments": {},
   "cell_type": "markdown",
   "metadata": {},
   "source": [
    "#### Conectividad internet Nacional"
   ]
  },
  {
   "cell_type": "code",
   "execution_count": 183,
   "metadata": {},
   "outputs": [],
   "source": [
    "df_conect_a_internet_nacional=pd.read_csv('./conectividad_a_internet_Nacional.csv')"
   ]
  },
  {
   "cell_type": "code",
   "execution_count": 210,
   "metadata": {},
   "outputs": [
    {
     "name": "stdout",
     "output_type": "stream",
     "text": [
      "<class 'pandas.core.frame.DataFrame'>\n",
      "RangeIndex: 4312 entries, 0 to 4311\n",
      "Data columns (total 14 columns):\n",
      " #   Column         Non-Null Count  Dtype  \n",
      "---  ------         --------------  -----  \n",
      " 0   Provincia      4312 non-null   object \n",
      " 1   Partido        4312 non-null   object \n",
      " 2   Localidad      4312 non-null   object \n",
      " 3   Poblacion      4312 non-null   int64  \n",
      " 4   ADSL           4312 non-null   object \n",
      " 5   CABLEMODEM     4312 non-null   object \n",
      " 6   DIALUP         4312 non-null   object \n",
      " 7   FIBRAOPTICA    4312 non-null   object \n",
      " 8   SATELITAL      4312 non-null   object \n",
      " 9   WIRELESS       4312 non-null   object \n",
      " 10  TELEFONIAFIJA  4312 non-null   object \n",
      " 11  4G             4312 non-null   object \n",
      " 12  Latitud        4312 non-null   float64\n",
      " 13  Longitud       4312 non-null   float64\n",
      "dtypes: float64(2), int64(1), object(11)\n",
      "memory usage: 471.8+ KB\n"
     ]
    }
   ],
   "source": [
    "df_conect_a_internet_nacional.info()"
   ]
  },
  {
   "cell_type": "code",
   "execution_count": 185,
   "metadata": {},
   "outputs": [],
   "source": [
    "df_conect_a_internet_nacional.drop(columns='3G',inplace=True)"
   ]
  },
  {
   "cell_type": "code",
   "execution_count": 197,
   "metadata": {},
   "outputs": [],
   "source": [
    "df_conect_a_internet_nacional['Latitud']=df_conect_a_internet_nacional['Latitud'].replace('\"','')\n",
    "df_conect_a_internet_nacional['Longitud']=df_conect_a_internet_nacional['Longitud'].replace('\"','')\n"
   ]
  },
  {
   "cell_type": "code",
   "execution_count": 207,
   "metadata": {},
   "outputs": [],
   "source": [
    "df_conect_a_internet_nacional['Latitud']=df_conect_a_internet_nacional['Latitud'].str.replace(',','')\n",
    "df_conect_a_internet_nacional['Longitud']=df_conect_a_internet_nacional['Longitud'].str.replace(',','')"
   ]
  },
  {
   "cell_type": "code",
   "execution_count": 211,
   "metadata": {},
   "outputs": [
    {
     "data": {
      "text/html": [
       "<div>\n",
       "<style scoped>\n",
       "    .dataframe tbody tr th:only-of-type {\n",
       "        vertical-align: middle;\n",
       "    }\n",
       "\n",
       "    .dataframe tbody tr th {\n",
       "        vertical-align: top;\n",
       "    }\n",
       "\n",
       "    .dataframe thead th {\n",
       "        text-align: right;\n",
       "    }\n",
       "</style>\n",
       "<table border=\"1\" class=\"dataframe\">\n",
       "  <thead>\n",
       "    <tr style=\"text-align: right;\">\n",
       "      <th></th>\n",
       "      <th>Provincia</th>\n",
       "      <th>Partido</th>\n",
       "      <th>Localidad</th>\n",
       "      <th>Poblacion</th>\n",
       "      <th>ADSL</th>\n",
       "      <th>CABLEMODEM</th>\n",
       "      <th>DIALUP</th>\n",
       "      <th>FIBRAOPTICA</th>\n",
       "      <th>SATELITAL</th>\n",
       "      <th>WIRELESS</th>\n",
       "      <th>TELEFONIAFIJA</th>\n",
       "      <th>4G</th>\n",
       "      <th>Latitud</th>\n",
       "      <th>Longitud</th>\n",
       "    </tr>\n",
       "  </thead>\n",
       "  <tbody>\n",
       "    <tr>\n",
       "      <th>0</th>\n",
       "      <td>BUENOS AIRES</td>\n",
       "      <td>Bahía Blanca</td>\n",
       "      <td>Villa Bordeau</td>\n",
       "      <td>0</td>\n",
       "      <td>--</td>\n",
       "      <td>--</td>\n",
       "      <td>--</td>\n",
       "      <td>--</td>\n",
       "      <td>--</td>\n",
       "      <td>--</td>\n",
       "      <td>--</td>\n",
       "      <td>SI</td>\n",
       "      <td>-3.864726e+14</td>\n",
       "      <td>-6.232002e+14</td>\n",
       "    </tr>\n",
       "    <tr>\n",
       "      <th>1</th>\n",
       "      <td>BUENOS AIRES</td>\n",
       "      <td>Bahía Blanca</td>\n",
       "      <td>Villa Espora</td>\n",
       "      <td>0</td>\n",
       "      <td>--</td>\n",
       "      <td>--</td>\n",
       "      <td>--</td>\n",
       "      <td>--</td>\n",
       "      <td>--</td>\n",
       "      <td>--</td>\n",
       "      <td>--</td>\n",
       "      <td>--</td>\n",
       "      <td>-3.877651e+14</td>\n",
       "      <td>-6.218518e+14</td>\n",
       "    </tr>\n",
       "    <tr>\n",
       "      <th>2</th>\n",
       "      <td>BUENOS AIRES</td>\n",
       "      <td>Balcarce</td>\n",
       "      <td>Balcarce</td>\n",
       "      <td>38376</td>\n",
       "      <td>SI</td>\n",
       "      <td>SI</td>\n",
       "      <td>SI</td>\n",
       "      <td>SI</td>\n",
       "      <td>--</td>\n",
       "      <td>SI</td>\n",
       "      <td>SI</td>\n",
       "      <td>SI</td>\n",
       "      <td>-3.784828e+14</td>\n",
       "      <td>-5.825517e+14</td>\n",
       "    </tr>\n",
       "    <tr>\n",
       "      <th>3</th>\n",
       "      <td>BUENOS AIRES</td>\n",
       "      <td>Balcarce</td>\n",
       "      <td>Los Pinos</td>\n",
       "      <td>337</td>\n",
       "      <td>--</td>\n",
       "      <td>--</td>\n",
       "      <td>--</td>\n",
       "      <td>--</td>\n",
       "      <td>--</td>\n",
       "      <td>SI</td>\n",
       "      <td>SI</td>\n",
       "      <td>--</td>\n",
       "      <td>-3.794121e+11</td>\n",
       "      <td>-5.832259e+14</td>\n",
       "    </tr>\n",
       "    <tr>\n",
       "      <th>4</th>\n",
       "      <td>BUENOS AIRES</td>\n",
       "      <td>Balcarce</td>\n",
       "      <td>Napaleofú</td>\n",
       "      <td>374</td>\n",
       "      <td>--</td>\n",
       "      <td>--</td>\n",
       "      <td>--</td>\n",
       "      <td>SI</td>\n",
       "      <td>--</td>\n",
       "      <td>SI</td>\n",
       "      <td>SI</td>\n",
       "      <td>SI</td>\n",
       "      <td>-3.762550e+14</td>\n",
       "      <td>-5.874619e+14</td>\n",
       "    </tr>\n",
       "    <tr>\n",
       "      <th>5</th>\n",
       "      <td>BUENOS AIRES</td>\n",
       "      <td>Balcarce</td>\n",
       "      <td>Ramos Otero</td>\n",
       "      <td>95</td>\n",
       "      <td>--</td>\n",
       "      <td>--</td>\n",
       "      <td>--</td>\n",
       "      <td>--</td>\n",
       "      <td>--</td>\n",
       "      <td>SI</td>\n",
       "      <td>--</td>\n",
       "      <td>SI</td>\n",
       "      <td>-3.754264e+14</td>\n",
       "      <td>-5.834072e+14</td>\n",
       "    </tr>\n",
       "    <tr>\n",
       "      <th>6</th>\n",
       "      <td>BUENOS AIRES</td>\n",
       "      <td>Balcarce</td>\n",
       "      <td>San Agustín</td>\n",
       "      <td>498</td>\n",
       "      <td>--</td>\n",
       "      <td>--</td>\n",
       "      <td>--</td>\n",
       "      <td>--</td>\n",
       "      <td>--</td>\n",
       "      <td>SI</td>\n",
       "      <td>SI</td>\n",
       "      <td>--</td>\n",
       "      <td>-3.801228e+14</td>\n",
       "      <td>-5.835538e+13</td>\n",
       "    </tr>\n",
       "    <tr>\n",
       "      <th>7</th>\n",
       "      <td>BUENOS AIRES</td>\n",
       "      <td>Balcarce</td>\n",
       "      <td>Villa Laguna La Brava</td>\n",
       "      <td>115</td>\n",
       "      <td>--</td>\n",
       "      <td>--</td>\n",
       "      <td>--</td>\n",
       "      <td>--</td>\n",
       "      <td>--</td>\n",
       "      <td>SI</td>\n",
       "      <td>SI</td>\n",
       "      <td>SI</td>\n",
       "      <td>-3.785963e+14</td>\n",
       "      <td>-5.798060e+14</td>\n",
       "    </tr>\n",
       "    <tr>\n",
       "      <th>8</th>\n",
       "      <td>BUENOS AIRES</td>\n",
       "      <td>Baradero</td>\n",
       "      <td>Baradero</td>\n",
       "      <td>28537</td>\n",
       "      <td>SI</td>\n",
       "      <td>SI</td>\n",
       "      <td>--</td>\n",
       "      <td>SI</td>\n",
       "      <td>SI</td>\n",
       "      <td>SI</td>\n",
       "      <td>SI</td>\n",
       "      <td>SI</td>\n",
       "      <td>-3.381288e+14</td>\n",
       "      <td>-5.950431e+14</td>\n",
       "    </tr>\n",
       "    <tr>\n",
       "      <th>9</th>\n",
       "      <td>BUENOS AIRES</td>\n",
       "      <td>Baradero</td>\n",
       "      <td>Irineo Portela</td>\n",
       "      <td>379</td>\n",
       "      <td>--</td>\n",
       "      <td>--</td>\n",
       "      <td>--</td>\n",
       "      <td>SI</td>\n",
       "      <td>SI</td>\n",
       "      <td>SI</td>\n",
       "      <td>SI</td>\n",
       "      <td>--</td>\n",
       "      <td>-3.398105e+14</td>\n",
       "      <td>-5.967156e+14</td>\n",
       "    </tr>\n",
       "  </tbody>\n",
       "</table>\n",
       "</div>"
      ],
      "text/plain": [
       "      Provincia       Partido              Localidad  Poblacion ADSL   \n",
       "0  BUENOS AIRES  Bahía Blanca          Villa Bordeau          0   --  \\\n",
       "1  BUENOS AIRES  Bahía Blanca           Villa Espora          0   --   \n",
       "2  BUENOS AIRES      Balcarce               Balcarce      38376   SI   \n",
       "3  BUENOS AIRES      Balcarce              Los Pinos        337   --   \n",
       "4  BUENOS AIRES      Balcarce              Napaleofú        374   --   \n",
       "5  BUENOS AIRES      Balcarce            Ramos Otero         95   --   \n",
       "6  BUENOS AIRES      Balcarce            San Agustín        498   --   \n",
       "7  BUENOS AIRES      Balcarce  Villa Laguna La Brava        115   --   \n",
       "8  BUENOS AIRES      Baradero               Baradero      28537   SI   \n",
       "9  BUENOS AIRES      Baradero         Irineo Portela        379   --   \n",
       "\n",
       "  CABLEMODEM DIALUP FIBRAOPTICA SATELITAL WIRELESS TELEFONIAFIJA  4G   \n",
       "0         --     --          --        --       --            --  SI  \\\n",
       "1         --     --          --        --       --            --  --   \n",
       "2         SI     SI          SI        --       SI            SI  SI   \n",
       "3         --     --          --        --       SI            SI  --   \n",
       "4         --     --          SI        --       SI            SI  SI   \n",
       "5         --     --          --        --       SI            --  SI   \n",
       "6         --     --          --        --       SI            SI  --   \n",
       "7         --     --          --        --       SI            SI  SI   \n",
       "8         SI     --          SI        SI       SI            SI  SI   \n",
       "9         --     --          SI        SI       SI            SI  --   \n",
       "\n",
       "        Latitud      Longitud  \n",
       "0 -3.864726e+14 -6.232002e+14  \n",
       "1 -3.877651e+14 -6.218518e+14  \n",
       "2 -3.784828e+14 -5.825517e+14  \n",
       "3 -3.794121e+11 -5.832259e+14  \n",
       "4 -3.762550e+14 -5.874619e+14  \n",
       "5 -3.754264e+14 -5.834072e+14  \n",
       "6 -3.801228e+14 -5.835538e+13  \n",
       "7 -3.785963e+14 -5.798060e+14  \n",
       "8 -3.381288e+14 -5.950431e+14  \n",
       "9 -3.398105e+14 -5.967156e+14  "
      ]
     },
     "execution_count": 211,
     "metadata": {},
     "output_type": "execute_result"
    }
   ],
   "source": [
    "df_conect_a_internet_nacional.head(10)"
   ]
  },
  {
   "cell_type": "code",
   "execution_count": 209,
   "metadata": {},
   "outputs": [],
   "source": [
    "df_conect_a_internet_nacional['Latitud']=df_conect_a_internet_nacional['Latitud'].astype(float)\n",
    "df_conect_a_internet_nacional['Longitud']=df_conect_a_internet_nacional['Longitud'].astype(float)"
   ]
  },
  {
   "cell_type": "code",
   "execution_count": 189,
   "metadata": {},
   "outputs": [
    {
     "data": {
      "text/html": [
       "<div>\n",
       "<style scoped>\n",
       "    .dataframe tbody tr th:only-of-type {\n",
       "        vertical-align: middle;\n",
       "    }\n",
       "\n",
       "    .dataframe tbody tr th {\n",
       "        vertical-align: top;\n",
       "    }\n",
       "\n",
       "    .dataframe thead th {\n",
       "        text-align: right;\n",
       "    }\n",
       "</style>\n",
       "<table border=\"1\" class=\"dataframe\">\n",
       "  <thead>\n",
       "    <tr style=\"text-align: right;\">\n",
       "      <th></th>\n",
       "      <th>Provincia</th>\n",
       "      <th>Partido</th>\n",
       "      <th>Localidad</th>\n",
       "      <th>Poblacion</th>\n",
       "      <th>ADSL</th>\n",
       "      <th>CABLEMODEM</th>\n",
       "      <th>DIALUP</th>\n",
       "      <th>FIBRAOPTICA</th>\n",
       "      <th>SATELITAL</th>\n",
       "      <th>WIRELESS</th>\n",
       "      <th>TELEFONIAFIJA</th>\n",
       "      <th>4G</th>\n",
       "      <th>Latitud</th>\n",
       "      <th>Longitud</th>\n",
       "    </tr>\n",
       "  </thead>\n",
       "  <tbody>\n",
       "    <tr>\n",
       "      <th>0</th>\n",
       "      <td>BUENOS AIRES</td>\n",
       "      <td>Bahía Blanca</td>\n",
       "      <td>Villa Bordeau</td>\n",
       "      <td>0</td>\n",
       "      <td>--</td>\n",
       "      <td>--</td>\n",
       "      <td>--</td>\n",
       "      <td>--</td>\n",
       "      <td>--</td>\n",
       "      <td>--</td>\n",
       "      <td>--</td>\n",
       "      <td>SI</td>\n",
       "      <td>-38,6472605094596</td>\n",
       "      <td>-62,3200223419024</td>\n",
       "    </tr>\n",
       "    <tr>\n",
       "      <th>1</th>\n",
       "      <td>BUENOS AIRES</td>\n",
       "      <td>Bahía Blanca</td>\n",
       "      <td>Villa Espora</td>\n",
       "      <td>0</td>\n",
       "      <td>--</td>\n",
       "      <td>--</td>\n",
       "      <td>--</td>\n",
       "      <td>--</td>\n",
       "      <td>--</td>\n",
       "      <td>--</td>\n",
       "      <td>--</td>\n",
       "      <td>--</td>\n",
       "      <td>-38,7765069529222</td>\n",
       "      <td>-62,1851833537179</td>\n",
       "    </tr>\n",
       "  </tbody>\n",
       "</table>\n",
       "</div>"
      ],
      "text/plain": [
       "      Provincia       Partido      Localidad  Poblacion ADSL CABLEMODEM   \n",
       "0  BUENOS AIRES  Bahía Blanca  Villa Bordeau          0   --         --  \\\n",
       "1  BUENOS AIRES  Bahía Blanca   Villa Espora          0   --         --   \n",
       "\n",
       "  DIALUP FIBRAOPTICA SATELITAL WIRELESS TELEFONIAFIJA  4G            Latitud   \n",
       "0     --          --        --       --            --  SI  -38,6472605094596  \\\n",
       "1     --          --        --       --            --  --  -38,7765069529222   \n",
       "\n",
       "            Longitud  \n",
       "0  -62,3200223419024  \n",
       "1  -62,1851833537179  "
      ]
     },
     "execution_count": 189,
     "metadata": {},
     "output_type": "execute_result"
    }
   ],
   "source": [
    "df_conect_a_internet_nacional.head(2)"
   ]
  },
  {
   "cell_type": "code",
   "execution_count": 212,
   "metadata": {},
   "outputs": [],
   "source": [
    "df_conect_a_internet_nacional.to_csv('conectividad_a_internet_Nacional.csv',index=False)"
   ]
  },
  {
   "attachments": {},
   "cell_type": "markdown",
   "metadata": {},
   "source": [
    "#### Ingresos Telefonia"
   ]
  },
  {
   "cell_type": "code",
   "execution_count": 213,
   "metadata": {},
   "outputs": [],
   "source": [
    "df_ingresos_telefonia=pd.read_csv('./ingresos_trimestrales_telefonia_fija.csv')"
   ]
  },
  {
   "cell_type": "code",
   "execution_count": 228,
   "metadata": {},
   "outputs": [
    {
     "data": {
      "text/html": [
       "<div>\n",
       "<style scoped>\n",
       "    .dataframe tbody tr th:only-of-type {\n",
       "        vertical-align: middle;\n",
       "    }\n",
       "\n",
       "    .dataframe tbody tr th {\n",
       "        vertical-align: top;\n",
       "    }\n",
       "\n",
       "    .dataframe thead th {\n",
       "        text-align: right;\n",
       "    }\n",
       "</style>\n",
       "<table border=\"1\" class=\"dataframe\">\n",
       "  <thead>\n",
       "    <tr style=\"text-align: right;\">\n",
       "      <th></th>\n",
       "      <th>Año</th>\n",
       "      <th>Trimestre</th>\n",
       "      <th>Ingresos (miles de $)</th>\n",
       "    </tr>\n",
       "  </thead>\n",
       "  <tbody>\n",
       "    <tr>\n",
       "      <th>0</th>\n",
       "      <td>2014</td>\n",
       "      <td>1</td>\n",
       "      <td>2916071</td>\n",
       "    </tr>\n",
       "    <tr>\n",
       "      <th>1</th>\n",
       "      <td>2014</td>\n",
       "      <td>2</td>\n",
       "      <td>2974865</td>\n",
       "    </tr>\n",
       "  </tbody>\n",
       "</table>\n",
       "</div>"
      ],
      "text/plain": [
       "    Año  Trimestre  Ingresos (miles de $)\n",
       "0  2014          1                2916071\n",
       "1  2014          2                2974865"
      ]
     },
     "execution_count": 228,
     "metadata": {},
     "output_type": "execute_result"
    }
   ],
   "source": [
    "df_ingresos_telefonia.head(2)"
   ]
  },
  {
   "cell_type": "code",
   "execution_count": 220,
   "metadata": {},
   "outputs": [],
   "source": [
    "df_ingresos_telefonia['Ingresos (miles de $)']=df_ingresos_telefonia['Ingresos (miles de $)'].str.replace(',','.')"
   ]
  },
  {
   "cell_type": "code",
   "execution_count": 227,
   "metadata": {},
   "outputs": [],
   "source": [
    "df_ingresos_telefonia['Ingresos (miles de $)']=df_ingresos_telefonia['Ingresos (miles de $)'].apply(lambda x: int(x.split('.')[0]))"
   ]
  },
  {
   "cell_type": "code",
   "execution_count": 231,
   "metadata": {},
   "outputs": [
    {
     "name": "stdout",
     "output_type": "stream",
     "text": [
      "<class 'pandas.core.frame.DataFrame'>\n",
      "RangeIndex: 35 entries, 0 to 34\n",
      "Data columns (total 3 columns):\n",
      " #   Column                 Non-Null Count  Dtype\n",
      "---  ------                 --------------  -----\n",
      " 0   Año                    35 non-null     int64\n",
      " 1   Trimestre              35 non-null     int64\n",
      " 2   Ingresos (miles de $)  35 non-null     int64\n",
      "dtypes: int64(3)\n",
      "memory usage: 972.0 bytes\n"
     ]
    }
   ],
   "source": [
    "df_ingresos_telefonia.info()"
   ]
  },
  {
   "cell_type": "code",
   "execution_count": 232,
   "metadata": {},
   "outputs": [],
   "source": [
    "df_ingresos_telefonia.to_csv('./ingresos_trimestrales_telefonia_fija_OK.csv',index=False)"
   ]
  },
  {
   "attachments": {},
   "cell_type": "markdown",
   "metadata": {},
   "source": [
    "#### Accesos a internet fijo por provincia y localidad"
   ]
  },
  {
   "cell_type": "code",
   "execution_count": 233,
   "metadata": {},
   "outputs": [],
   "source": [
    "df_internet_por_tecno_y_localidad=pd.read_csv('../data/Accesos a Internet fijo por tecnología y localidad_dataset_2.csv')"
   ]
  },
  {
   "cell_type": "code",
   "execution_count": 239,
   "metadata": {},
   "outputs": [
    {
     "data": {
      "text/html": [
       "<div>\n",
       "<style scoped>\n",
       "    .dataframe tbody tr th:only-of-type {\n",
       "        vertical-align: middle;\n",
       "    }\n",
       "\n",
       "    .dataframe tbody tr th {\n",
       "        vertical-align: top;\n",
       "    }\n",
       "\n",
       "    .dataframe thead th {\n",
       "        text-align: right;\n",
       "    }\n",
       "</style>\n",
       "<table border=\"1\" class=\"dataframe\">\n",
       "  <thead>\n",
       "    <tr style=\"text-align: right;\">\n",
       "      <th></th>\n",
       "      <th>Provincia</th>\n",
       "      <th>Partido</th>\n",
       "      <th>Localidad</th>\n",
       "      <th>ADSL</th>\n",
       "      <th>CABLEMODEM</th>\n",
       "      <th>DIAL UP</th>\n",
       "      <th>FIBRA OPTICA</th>\n",
       "      <th>OTROS</th>\n",
       "      <th>SATELITAL</th>\n",
       "      <th>WIMAX</th>\n",
       "      <th>WIRELESS</th>\n",
       "      <th>Total general</th>\n",
       "    </tr>\n",
       "  </thead>\n",
       "  <tbody>\n",
       "    <tr>\n",
       "      <th>0</th>\n",
       "      <td>BUENOS AIRES</td>\n",
       "      <td>25 de Mayo</td>\n",
       "      <td>25 de Mayo</td>\n",
       "      <td>873</td>\n",
       "      <td>4704</td>\n",
       "      <td>0</td>\n",
       "      <td>2</td>\n",
       "      <td>0</td>\n",
       "      <td>975</td>\n",
       "      <td>0</td>\n",
       "      <td>664</td>\n",
       "      <td>7218</td>\n",
       "    </tr>\n",
       "    <tr>\n",
       "      <th>1</th>\n",
       "      <td>BUENOS AIRES</td>\n",
       "      <td>25 de Mayo</td>\n",
       "      <td>Del Valle</td>\n",
       "      <td>181</td>\n",
       "      <td>0</td>\n",
       "      <td>0</td>\n",
       "      <td>0</td>\n",
       "      <td>10</td>\n",
       "      <td>1</td>\n",
       "      <td>0</td>\n",
       "      <td>0</td>\n",
       "      <td>192</td>\n",
       "    </tr>\n",
       "    <tr>\n",
       "      <th>2</th>\n",
       "      <td>BUENOS AIRES</td>\n",
       "      <td>25 de Mayo</td>\n",
       "      <td>Gobernador Ugarte</td>\n",
       "      <td>0</td>\n",
       "      <td>0</td>\n",
       "      <td>0</td>\n",
       "      <td>0</td>\n",
       "      <td>0</td>\n",
       "      <td>0</td>\n",
       "      <td>0</td>\n",
       "      <td>181</td>\n",
       "      <td>181</td>\n",
       "    </tr>\n",
       "  </tbody>\n",
       "</table>\n",
       "</div>"
      ],
      "text/plain": [
       "      Provincia     Partido          Localidad  ADSL  CABLEMODEM  DIAL UP   \n",
       "0  BUENOS AIRES  25 de Mayo         25 de Mayo   873        4704        0  \\\n",
       "1  BUENOS AIRES  25 de Mayo          Del Valle   181           0        0   \n",
       "2  BUENOS AIRES  25 de Mayo  Gobernador Ugarte     0           0        0   \n",
       "\n",
       "   FIBRA OPTICA  OTROS  SATELITAL  WIMAX  WIRELESS  Total general  \n",
       "0             2      0        975      0       664           7218  \n",
       "1             0     10          1      0         0            192  \n",
       "2             0      0          0      0       181            181  "
      ]
     },
     "execution_count": 239,
     "metadata": {},
     "output_type": "execute_result"
    }
   ],
   "source": [
    "df_internet_por_tecno_y_localidad.head(3)"
   ]
  },
  {
   "cell_type": "code",
   "execution_count": 237,
   "metadata": {},
   "outputs": [],
   "source": [
    "df_internet_por_tecno_y_localidad.drop(columns='Link Indec',inplace=True)"
   ]
  },
  {
   "cell_type": "code",
   "execution_count": 241,
   "metadata": {},
   "outputs": [
    {
     "data": {
      "text/plain": [
       "2107"
      ]
     },
     "execution_count": 241,
     "metadata": {},
     "output_type": "execute_result"
    }
   ],
   "source": [
    "df_internet_por_tecno_y_localidad.WIMAX.sum()"
   ]
  },
  {
   "cell_type": "code",
   "execution_count": 242,
   "metadata": {},
   "outputs": [
    {
     "name": "stdout",
     "output_type": "stream",
     "text": [
      "<class 'pandas.core.frame.DataFrame'>\n",
      "RangeIndex: 3142 entries, 0 to 3141\n",
      "Data columns (total 12 columns):\n",
      " #   Column         Non-Null Count  Dtype \n",
      "---  ------         --------------  ----- \n",
      " 0   Provincia      3142 non-null   object\n",
      " 1   Partido        3142 non-null   object\n",
      " 2   Localidad      3142 non-null   object\n",
      " 3   ADSL           3142 non-null   int64 \n",
      " 4   CABLEMODEM     3142 non-null   int64 \n",
      " 5   DIAL UP        3142 non-null   int64 \n",
      " 6   FIBRA OPTICA   3142 non-null   int64 \n",
      " 7   OTROS          3142 non-null   int64 \n",
      " 8   SATELITAL      3142 non-null   int64 \n",
      " 9   WIMAX          3142 non-null   int64 \n",
      " 10  WIRELESS       3142 non-null   int64 \n",
      " 11  Total general  3142 non-null   int64 \n",
      "dtypes: int64(9), object(3)\n",
      "memory usage: 294.7+ KB\n"
     ]
    }
   ],
   "source": [
    "df_internet_por_tecno_y_localidad.info()"
   ]
  },
  {
   "cell_type": "code",
   "execution_count": 243,
   "metadata": {},
   "outputs": [],
   "source": [
    "df_internet_por_tecno_y_localidad.to_csv('Accesos_internet_fijo_por_localidad_y_tecno.csv',index=False)"
   ]
  },
  {
   "attachments": {},
   "cell_type": "markdown",
   "metadata": {},
   "source": [
    "#### Ingresos Internet fijo"
   ]
  },
  {
   "cell_type": "code",
   "execution_count": null,
   "metadata": {},
   "outputs": [],
   "source": [
    "df=pd.read_csv('./4_Ingresos_por_operación _Internet_fijo_OK.csv')"
   ]
  },
  {
   "cell_type": "code",
   "execution_count": null,
   "metadata": {},
   "outputs": [],
   "source": [
    "df['Ingresos (miles de pesos)']=df['Ingresos (miles de pesos)'].str.replace('.','')\n",
    "df['Ingresos (miles de pesos)']=df['Ingresos (miles de pesos)'].astype(int)"
   ]
  },
  {
   "cell_type": "code",
   "execution_count": null,
   "metadata": {},
   "outputs": [],
   "source": [
    "df=df.sort_values(['Año','Trimestre'],ascending=True)"
   ]
  },
  {
   "cell_type": "code",
   "execution_count": null,
   "metadata": {},
   "outputs": [],
   "source": [
    "df.to_csv('./4_Ingresos_por_operación _Internet_fijo_OK.csv',index=False)"
   ]
  }
 ],
 "metadata": {
  "kernelspec": {
   "display_name": "base",
   "language": "python",
   "name": "python3"
  },
  "language_info": {
   "codemirror_mode": {
    "name": "ipython",
    "version": 3
   },
   "file_extension": ".py",
   "mimetype": "text/x-python",
   "name": "python",
   "nbconvert_exporter": "python",
   "pygments_lexer": "ipython3",
   "version": "3.11.3"
  },
  "orig_nbformat": 4
 },
 "nbformat": 4,
 "nbformat_minor": 2
}
